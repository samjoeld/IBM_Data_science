{
 "cells": [
  {
   "cell_type": "markdown",
   "id": "d4b6ab8b",
   "metadata": {},
   "source": [
    "<h1>Data Science Tools and Ecosystem</h1>"
   ]
  },
  {
   "cell_type": "markdown",
   "id": "306e62f3",
   "metadata": {},
   "source": [
    "#### In this notebook, Data Science Tools and Ecosystem are summarized.\n"
   ]
  },
  {
   "cell_type": "markdown",
   "id": "85602da2",
   "metadata": {},
   "source": [
    "<h5>Some of the popular languages that Data Scientists use are:</h5>\n",
    "<ol>\n",
    "  <li>Python</li>\n",
    "  <li>R</li>\n",
    "  <li>SQL</li>\n",
    "  <li>Julia</li>\n",
    "  <li>Scala</li>\n",
    "</ol>\n",
    "    "
   ]
  },
  {
   "cell_type": "markdown",
   "id": "f7ab411a",
   "metadata": {},
   "source": [
    "<h5>Some of the commonly used libraries used by Data Scientists include:</h5>\n",
    "<ol>\n",
    "  <li>NumPy</li>\n",
    "  <li>Pandas</li>\n",
    "  <li>Matplotlib</li>\n",
    "  <li>Seaborn</li>\n",
    "  <li>Scikit-learn</li>\n",
    "  <li>TensorFlow</li>\n",
    "  <li>PyTorch</li>\n",
    "  <li>SciPy</li>\n",
    "  <li>StatsModels</li>\n",
    "  <li>NLTK (Natural Language Toolkit)</li>\n",
    "</ol>"
   ]
  },
  {
   "cell_type": "markdown",
   "id": "65df28bc",
   "metadata": {},
   "source": [
    "<table border=\"1\" style=\"float: left; \">\n",
    "  <tr>\n",
    "    <th  style=\"font-size: 16px;\">Data Science Tools</th>\n",
    "  </tr>\n",
    "  <tr>\n",
    "    <td style=\"float: left; \">Jupyter Notebook</td>\n",
    "  </tr>\n",
    "  <tr>\n",
    "    <td style=\"float: left; \">Google Colab</td>\n",
    "  </tr>\n",
    "  <tr>\n",
    "    <td style=\"float: left; \">RStudio</td>\n",
    "  </tr>\n",
    "    <tr>\n",
    "    <td style=\"float: left; \">IBM Watson jupyter</td>\n",
    "  </tr>\n",
    "</table>\n"
   ]
  },
  {
   "cell_type": "markdown",
   "id": "e0dbc3f7",
   "metadata": {},
   "source": [
    "<h3>Below are a few examples of evaluating arithmetic expressions in Python</h3>"
   ]
  },
  {
   "cell_type": "code",
   "execution_count": 1,
   "id": "106d4333",
   "metadata": {},
   "outputs": [
    {
     "data": {
      "text/plain": [
       "17"
      ]
     },
     "execution_count": 1,
     "metadata": {},
     "output_type": "execute_result"
    }
   ],
   "source": [
    "# This is a simple arithmetic expression to multiply then add integers.\n",
    "(3 * 4) + 5\n"
   ]
  },
  {
   "cell_type": "code",
   "execution_count": 5,
   "id": "aed478a3",
   "metadata": {},
   "outputs": [
    {
     "name": "stdout",
     "output_type": "stream",
     "text": [
      " 200 Minutes to hours 3\n"
     ]
    }
   ],
   "source": [
    "# This will convert 200 minutes to hours by dividing by 60.\n",
    "a = 200 / 60\n",
    "print(\" 200 Minutes to hours\",int(a))"
   ]
  },
  {
   "cell_type": "markdown",
   "id": "9dea7836",
   "metadata": {},
   "source": [
    "<b>Objectives:</b>\n",
    "<ul>\n",
    "  <li>Python</li>\n",
    "  <li>R</li>\n",
    "  <li>SQL</li>\n",
    "  <li>Julia</li>\n",
    "  <li>Scala</li>\n",
    "  <li>MATLAB</li>\n",
    "  <li>JavaScript</li>\n",
    "</ul>\n"
   ]
  },
  {
   "cell_type": "markdown",
   "id": "0b8d7d1e",
   "metadata": {},
   "source": [
    "<H2>Author</H2>\n",
    "SAM JOEL D\n"
   ]
  }
 ],
 "metadata": {
  "kernelspec": {
   "display_name": "Python 3 (ipykernel)",
   "language": "python",
   "name": "python3"
  },
  "language_info": {
   "codemirror_mode": {
    "name": "ipython",
    "version": 3
   },
   "file_extension": ".py",
   "mimetype": "text/x-python",
   "name": "python",
   "nbconvert_exporter": "python",
   "pygments_lexer": "ipython3",
   "version": "3.11.7"
  }
 },
 "nbformat": 4,
 "nbformat_minor": 5
}
